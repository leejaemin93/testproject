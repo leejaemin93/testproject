{
 "cells": [
  {
   "cell_type": "code",
   "execution_count": 1,
   "id": "52ab6cd0",
   "metadata": {},
   "outputs": [
    {
     "name": "stdout",
     "output_type": "stream",
     "text": [
      "테스트좀 할게요\n"
     ]
    }
   ],
   "source": [
    "print(\"테스트좀 할게요\")"
   ]
  },
  {
   "cell_type": "code",
   "execution_count": null,
   "id": "6a4b2eeb",
   "metadata": {},
   "outputs": [],
   "source": [
    "# 업데이트 속도가 바로바로 못쫓아오는건가?"
   ]
  },
  {
   "cell_type": "code",
   "execution_count": 4,
   "id": "44c0a393",
   "metadata": {},
   "outputs": [],
   "source": [
    "# 깃허브 사용하기 어렵긴하다"
   ]
  }
 ],
 "metadata": {
  "kernelspec": {
   "display_name": "Python 3",
   "language": "python",
   "name": "python3"
  },
  "language_info": {
   "codemirror_mode": {
    "name": "ipython",
    "version": 3
   },
   "file_extension": ".py",
   "mimetype": "text/x-python",
   "name": "python",
   "nbconvert_exporter": "python",
   "pygments_lexer": "ipython3",
   "version": "3.13.3"
  }
 },
 "nbformat": 4,
 "nbformat_minor": 5
}
